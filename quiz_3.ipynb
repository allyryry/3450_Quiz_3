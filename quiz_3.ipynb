{
 "cells": [
  {
   "cell_type": "code",
   "execution_count": 1,
   "metadata": {},
   "outputs": [],
   "source": [
    "import numpy as np\n",
    "import random\n",
    "import thinkstats2\n",
    "import thinkplot\n",
    "from scipy import stats as ss\n",
    "\n",
    "##Seaborn for fancy plots. \n",
    "import matplotlib.pyplot as plt\n",
    "import seaborn as sns\n",
    "plt.rcParams[\"figure.figsize\"] = (8,8)"
   ]
  },
  {
   "cell_type": "markdown",
   "metadata": {},
   "source": [
    "<h1>Quiz 3</h1>\n",
    "\n",
    "Please fill in the bodies of the functions as specified. Please read the instructions closely and ask for clarification if needed. A few notes/tips:\n",
    "<ul>\n",
    "<li>Like all the functions we use, the function is a self contained thing. It takes in values as paramaters when called, and produces a return value. All of the inputs that may change should be in that function call, imagine your function being cut/pasted into some other file - it should not depend on anything outside of libraries that it may need. \n",
    "<li>Test your function with more than one function call, with different inputs. See an example in comments below the first question. \n",
    "<li>If something doesn't work, print or look at the varaibles window. The #1 skill that'll allow you to write usable code is the ability to find and fix errors. Printing a value out line by line so you can see how it changes, and looking for the step where something goes wrong is A-OK and pretty normal. It is boring. \n",
    "<li>Unless otherwise specified, you can use outside library functions to calculate things. \n",
    "</ul>"
   ]
  },
  {
   "cell_type": "markdown",
   "metadata": {},
   "source": [
    "<h1>Test Data</h1>\n",
    "\n",
    "You may notice there's no data specified or attached. You'll need to generate some test data if you want to test your functions. \n",
    "\n",
    "The easiest way to generate test data is to use some of the random functions to generate data that looks like what you need. Numpy random and scipy disributions .rvs functions are good places to look, we've also generated random data many times in the past. \n",
    "\n",
    "There is no specific requirement on what your data needs to be, it just needs to be good enough to test your function. If you pay attention to what exactly you're calculating and the criteria given, you should be able to create some suitable data for different tests. As an example, for the Hyp Test question, you need two sets of normal data. You can generate some in many ways, one is through scipy:\n",
    "<ul>\n",
    "<li>ss.norm.rvs(loc=0, scale=1, size=1, random_state=None)\n",
    "</ul>\n",
    "<p>\n",
    "Since you're checking if there's a significant difference between the two groups, you'd likely want multiple sets of data - two that are very close, so they will not show a difference, and two that are not close, so they will show a difference. Think about what you are checking, then just make some data that will allow you to test that. \n",
    "\n",
    "This should not be extremely difficult to code nor should it be super time consuming, the commands are pretty simple and generating random varaibles is pretty similar for any distribution. There is some though involved in saying \"what data do I need to check this?\" That's something that is pretty important in general, if we are creating something we need to make sure that it works in general, not just one example. Critically, there are not specific sets of data you need - almost anything will work. It is only there to let your functions run and see if they are correct. You don't need to aim for \"the perfect test data\" or anything like that, just make some data in a list, if it needs to be of a certain distribution, use that dist to get it; if the distribution doesn't matter, just make something. "
   ]
  },
  {
   "cell_type": "markdown",
   "metadata": {},
   "source": [
    "<h1>Ski on Chi - 10pts</h1>\n",
    "\n",
    "You operate a ski hill, and over the years you've seen the distribution of skiers vs snowboarders vs snow skaters etc... change a bit. This is your first full open season since the pandemic hit. When you closed in early 2020, the distribution of your customer base was:\n",
    "<ul>\n",
    "<li>Skiers - 40%\n",
    "<li>Snowboarders - 20%\n",
    "<li>Snow Skaters - 5%\n",
    "<li>Non-Active (i.e. sit in the lodger) - 15%\n",
    "<li>Lesson takers - 20%\n",
    "</ul>\n",
    "\n",
    "You are seeing a different pattern now, but you are not sure if that is due to a change in what your customers want or due to just random chance. You want to be able to analytically tell if what you observe each week is a real change from that baseline above, or nothing to worry about. \n",
    "\n",
    "In this function you'll take in:\n",
    "<ul>\n",
    "<li>Two list of values for the observed number of customers in each group, in the order indicated above. E.g. [35,25,10,10,20].\n",
    "<li>An alpha value (the cutoff criteria for a p-values)\n",
    "</ul>\n",
    "<br><br>\n",
    "You'll return 3 results:\n",
    "<ul>\n",
    "<li>A true/false assessment for if the data appears to show a significant difference in means, measured by if the pValue is less than the supplied alpha. \n",
    "<li>The name of the category that MOST EXCEEDS the expectation. \n",
    "<li>The name of the cetegory that is MOST EXCEEDED BY the expectation. \n",
    "</ul>"
   ]
  },
  {
   "cell_type": "code",
   "execution_count": 34,
   "metadata": {},
   "outputs": [],
   "source": [
    "def skiCustomersChange(observedCustys, alpha=.05):\n",
    "    expected = [40,20,5,15,20]\n",
    "    observedCustys = observedCustys\n",
    "\n",
    "    pd, p = ss.chisquare(observedCustys, expected)\n",
    "    if p < alpha:\n",
    "     isSignificantDiff = True\n",
    "    else:\n",
    "     isSignificantDiff = False\n",
    "\n",
    "    differences = list(np.array(observedCustys) - np.array(expected))\n",
    "    types = [(differences[0], 'Skiers'), (differences[1], 'Snowboarders'), (differences[2], 'Snow Skaters'),\n",
    "    (differences[3], 'Inactive'), (differences[4], 'Lesson Takers')]\n",
    "\n",
    "    types = sorted(types, reverse=False)\n",
    "\n",
    "    higherThanExp = types[4][1]\n",
    "    lowerThanExp = types[0][1]\n",
    "    \n",
    "    return isSignificantDiff, higherThanExp, lowerThanExp"
   ]
  },
  {
   "cell_type": "code",
   "execution_count": 37,
   "metadata": {},
   "outputs": [
    {
     "data": {
      "text/plain": [
       "(True, 'Lesson Takers', 'Snowboarders')"
      ]
     },
     "execution_count": 37,
     "metadata": {},
     "output_type": "execute_result"
    }
   ],
   "source": [
    "#Example function calls\n",
    "#skiCustomersChange([35,25,10,10,20], .05)\n",
    "#skiCustomersChange([15,40,15,10,20], .1)\n",
    "#skiCustomersChange([40,10,10,10,30], .01)"
   ]
  },
  {
   "cell_type": "code",
   "execution_count": 33,
   "metadata": {},
   "outputs": [
    {
     "name": "stdout",
     "output_type": "stream",
     "text": [
      "[0, 10, -5, 5, -10]\n",
      "[(0, 'Skiers'), (10, 'Snowboarders'), (-5, 'Snow Skaters'), (5, 'Inactive'), (-10, 'Lesson Takers')]\n",
      "[(-10, 'Lesson Takers'), (-5, 'Snow Skaters'), (0, 'Skiers'), (5, 'Inactive'), (10, 'Snowboarders')]\n",
      "True Snowboarders Lesson Takers\n"
     ]
    }
   ],
   "source": [
    "    expected = [40,20,5,15,20]\n",
    "    observedCustys = [40,10,10,10,30]\n",
    "\n",
    "    pd, p = ss.chisquare(observedCustys, expected)\n",
    "    if p < 0.01:\n",
    "     isSignificantDiff = True\n",
    "    else:\n",
    "     isSignificantDiff = False\n",
    "\n",
    "    differences = list(np.array(observedCustys) - np.array(expected))\n",
    "    print(differences)\n",
    "    types = [(differences[0], 'Skiers'), (differences[1], 'Snowboarders'), (differences[2], 'Snow Skaters'),\n",
    "    (differences[3], 'Inactive'), (differences[4], 'Lesson Takers')]\n",
    "    print(types)\n",
    "    types = sorted(types, reverse=False)\n",
    "    print\n",
    "    higherThanExp = types[4][1]\n",
    "    lowerThanExp = types[0][1]\n",
    "    print(isSignificantDiff, higherThanExp, lowerThanExp)"
   ]
  },
  {
   "cell_type": "code",
   "execution_count": null,
   "metadata": {},
   "outputs": [],
   "source": [
    "def skiCustomersChange(observedCustys=[], alpha=.05):\n",
    "    expected = [40,20,5,15,20]\n",
    "    observed = [observedCustys]\n",
    "\n",
    "    pd, p = ss.chisquare(observed, expected)\n",
    "    if np.all(p) < alpha:\n",
    "     isSignificantDiff = True\n",
    "    else:\n",
    "     isSignificantDiff = False\n",
    "\n",
    "    differences = list(np.array(observed) - np.array(expected))\n",
    "    types = [(expected[0], 'Skiers'), (expected[1], 'Snowboarders'), (expected[2], 'Snow Skaters'),\n",
    "    (expected[3], 'Inactive'), (expected[4], 'Lesson Takers')]\n",
    "\n",
    "    types = sorted(types, reverse=False)\n",
    "\n",
    "    higherThanExp = types[4][1]\n",
    "    lowerThanExp = types[0][1]\n",
    "    \n",
    "    return p, isSignificantDiff, higherThanExp, lowerThanExp"
   ]
  },
  {
   "cell_type": "markdown",
   "metadata": {},
   "source": [
    "<h2>Hypothesis Testing - 10pts</h2>\n",
    "\n",
    "In this function you'll take in:\n",
    "<ul>\n",
    "<li>Two list of values - dataA and dataB. The data will be normally distributed. \n",
    "<li>An alpha value (the cutoff criteria for a p-values)\n",
    "<li>A power value (the likelihood of not getting a false negative)\n",
    "<li>An effect size value.\n",
    "</ul>\n",
    "<br><br>\n",
    "You'll produce a tuple of 3 results:\n",
    "<ul>\n",
    "<li>A true/false assessment for if the data appears to show a significant difference in means, measured by if the pValue is less than the supplied alpha in a t-test.\n",
    "<li>A true/false assessment for if a hypothesis test has enough power to be reliable, measured by if the power you calculate is greater than the supplied power. \n",
    "<li>A true false assessment for if the data appears to show a significant difference in means, measured by if the Cohen effect size is greater than the supplied effect size. \n",
    "</ul>\n",
    "\n",
    "<b>Please report your responses in the format indicated in the template. As well, please report all true/false values as 1/0. 1 is True, 0 is false. To verify if all the criteria are true, someone calling this function should be able to multiply the 3 values in the tuple together and get a result of 1 if they are all true, and 0 otherwise</b>"
   ]
  },
  {
   "cell_type": "code",
   "execution_count": 14,
   "metadata": {},
   "outputs": [],
   "source": [
    "def strengthOfEffect(dataA, dataB, alpha=.05, power=.8, effectSize=.5):\n",
    "    from statsmodels.stats.power import TTestPower\n",
    "    powerTest = TTestPower()\n",
    "    \n",
    "    dataA = np.array(ss.norm.rvs(loc=0,scale=1, size=780, random_state=None))\n",
    "    dataB = np.array(ss.norm.rvs(loc=0,scale=1, size=780, random_state=None))\n",
    "    \n",
    "    stat, pval = ss.ttest_ind(dataA, dataB, alternative=\"greater\")\n",
    "    pval\n",
    "    if pval < alpha:\n",
    "        passedPtest = 1\n",
    "    else:\n",
    "        passedPtest = 0\n",
    "        \n",
    "    ces = thinkstats2.CohenEffectSize(dataA, dataB)\n",
    "    nobs = len(dataA) + len(dataB)\n",
    "\n",
    "    pow = powerTest.power(effect_size=ces, nobs=nobs, alpha=alpha)\n",
    "    pow, ces\n",
    "    if pow > power:\n",
    "     passedPower =  1\n",
    "    else: \n",
    "     passedPower = 0\n",
    "    if ces > effectSize:\n",
    "     passedEffectSize = 1\n",
    "    else:\n",
    "     passedEffectSize = 0\n",
    "    results = (passedPtest, passedPower, passedEffectSize)\n",
    "    \n",
    "    return results"
   ]
  },
  {
   "cell_type": "code",
   "execution_count": 15,
   "metadata": {},
   "outputs": [
    {
     "data": {
      "text/plain": [
       "(0, 0, 0)"
      ]
     },
     "execution_count": 15,
     "metadata": {},
     "output_type": "execute_result"
    }
   ],
   "source": [
    "#Example function calls\n",
    "oneListOfValues = np.array(ss.norm.rvs(scale=1, size=4568, random_state=None))\n",
    "anotherListOfValues = np.array(ss.norm.rvs(scale=1, size=4568, random_state=None))\n",
    "secondListOfValues = np.array(ss.norm.rvs(scale=1, size=4568, random_state=None))\n",
    "moreListOfValues = np.array(ss.norm.rvs(scale=1, size=4568, random_state=None))\n",
    "#strengthOfEffect(oneListOfValues, anotherListOfValues, .05, .9, .7)\n",
    "#strengthOfEffect(secondListOfValues, anotherListOfValues, .03, .7, .4)\n",
    "strengthOfEffect(oneListOfValues, moreListOfValues, .05, .8, .7)"
   ]
  },
  {
   "cell_type": "code",
   "execution_count": 16,
   "metadata": {},
   "outputs": [
    {
     "name": "stdout",
     "output_type": "stream",
     "text": [
      "p: 0.9192684909570167\n",
      "Power: 0.800043501669481\n",
      "ces: -0.07097947361142866\n",
      "(0, 1, 0)\n"
     ]
    }
   ],
   "source": [
    "from statsmodels.stats.power import TTestPower\n",
    "powerTest = TTestPower()\n",
    "dataA = np.array(ss.norm.rvs(loc=0,scale=1, size=780, random_state=None))\n",
    "dataB = np.array(ss.norm.rvs(loc=0,scale=1, size=780, random_state=None))\n",
    "    \n",
    "stat, pval = ss.ttest_ind(dataA, dataB, alternative=\"greater\")\n",
    "print('p:',pval)\n",
    "if pval < 0.05:\n",
    "    passedPtest = 1\n",
    "else:\n",
    "    passedPtest = 0\n",
    "        \n",
    "ces = thinkstats2.CohenEffectSize(dataA, dataB)\n",
    "nobs = len(dataA) + len(dataB)\n",
    "\n",
    "pow = powerTest.power(effect_size=ces, nobs=nobs, alpha=0.05)\n",
    "print('Power:',pow) \n",
    "print('ces:', ces)\n",
    "if pow > .8:\n",
    " passedPower =  1\n",
    "else: \n",
    " passedPower = 0\n",
    "if ces > .5:\n",
    "    passedEffectSize = 1\n",
    "else:\n",
    "    passedEffectSize = 0\n",
    "results = (passedPtest, passedPower, passedEffectSize)\n",
    "print(results)"
   ]
  },
  {
   "cell_type": "markdown",
   "metadata": {},
   "source": [
    "<h2>Safe Test - 10pts</h2>\n",
    "\n",
    "In this function you'll take in:\n",
    "<ul>\n",
    "<li>Two list of values - dataA and dataB.\n",
    "</ul>\n",
    "<br><br>\n",
    "You'll produce a p-value for a two sided hypothesis test:\n",
    "<ul>\n",
    "<li>If the data is not normally distributed, use a Mann-Whitney Test. \n",
    "<li>If the data appears to be normally distributed, and the variance differs substantially, use a Welch's t-test.\n",
    "<li>If none of those conditions are true, use a 'normal' (Student's) t-test. \n",
    "<li>Note: The execution of all of these tests are very similar from your persepective. They are all in the scipy documentation - Google for exact details, and the code closely mirrors the examples we did. \n",
    "<li>Note 2: If you ever need to use a cutoff for a p-value in the middle of your calculations, please choose something reasonable. There are common defaults for whatever you may need. These defaults are likely shown in the documentation or any examples you may look up. \n",
    "</ul>\n",
    "\n",
    "<b>In any case, the value returned is one number (not in a list, tuple, etc...) that is the pValue performed for that test. "
   ]
  },
  {
   "cell_type": "code",
   "execution_count": 17,
   "metadata": {},
   "outputs": [],
   "source": [
    "def flexHypTest(dataA, dataB):\n",
    "    dataA = np.array(ss.norm.rvs(loc= 0, scale=1, size=800, random_state=None))\n",
    "    dataB = np.array(ss.norm.rvs(loc=0, scale=1, size=800, random_state=None))\n",
    "    stat, pValue = ss.ttest_ind(dataA, dataB)\n",
    "\n",
    "    return pValue"
   ]
  },
  {
   "cell_type": "code",
   "execution_count": 18,
   "metadata": {},
   "outputs": [
    {
     "data": {
      "text/plain": [
       "(0.9612083821103298, 0.9776678854815777)"
      ]
     },
     "execution_count": 18,
     "metadata": {},
     "output_type": "execute_result"
    }
   ],
   "source": [
    "Da = np.array(ss.norm.rvs(loc= 0, scale=1, size=800, random_state=None))\n",
    "Db = np.array(ss.norm.rvs(loc= 0, scale=1, size=800, random_state=None))\n",
    "Da.var(), Db.var()"
   ]
  },
  {
   "cell_type": "code",
   "execution_count": 19,
   "metadata": {},
   "outputs": [
    {
     "data": {
      "text/plain": [
       "0.8049375098607241"
      ]
     },
     "execution_count": 19,
     "metadata": {},
     "output_type": "execute_result"
    }
   ],
   "source": [
    "stat, pValue = ss.ttest_ind(Da, Db)\n",
    "pValue"
   ]
  },
  {
   "cell_type": "code",
   "execution_count": 20,
   "metadata": {},
   "outputs": [
    {
     "name": "stderr",
     "output_type": "stream",
     "text": [
      "C:\\Users\\allyr\\anaconda3\\lib\\site-packages\\seaborn\\distributions.py:2557: FutureWarning: `distplot` is a deprecated function and will be removed in a future version. Please adapt your code to use either `displot` (a figure-level function with similar flexibility) or `histplot` (an axes-level function for histograms).\n",
      "  warnings.warn(msg, FutureWarning)\n",
      "C:\\Users\\allyr\\anaconda3\\lib\\site-packages\\seaborn\\distributions.py:2557: FutureWarning: `distplot` is a deprecated function and will be removed in a future version. Please adapt your code to use either `displot` (a figure-level function with similar flexibility) or `histplot` (an axes-level function for histograms).\n",
      "  warnings.warn(msg, FutureWarning)\n"
     ]
    },
    {
     "data": {
      "image/png": "[encoded data removed]",
      "text/plain": [
       "<Figure size 576x576 with 1 Axes>"
      ]
     },
     "metadata": {
      "needs_background": "light"
     },
     "output_type": "display_data"
    }
   ],
   "source": [
    "sns.distplot(Da, color='black', label='A')\n",
    "sns.distplot(Db, color='green', label='B')\n",
    "thinkplot.Config()\n",
    "plt.show()"
   ]
  },
  {
   "cell_type": "markdown",
   "metadata": {},
   "source": [
    "<h1>Grade Distribution - 10pts</h1>\n",
    "\n",
    "Grade distributions for final letter grades at a school are generally skewed towards the higher end of the scale. We can model it with a function below.\n",
    "\n",
    "Percentage grades on individual assignments are often skewnormally distributed. (Note: this is more for curved schools than somewhere like NAIT with hard cutoffs. When I was in school CompSci profs would aim for a 50%-60% raw average to get a normal-ish distribution of marks.)\n",
    "\n",
    "You are seeking to generate a grading system, in two steps:\n",
    "<ul>\n",
    "<li>Use the supplied Weibull distribution in the simpleGenerateLetterGradeBuckets function to generate the distribution of letter grades - A,B,C,D,F. We are a simple school and we only have letters, no plus or minus. \n",
    "<li>\n",
    "<li>Use the function simpleGenerateLetterGradeBuckets to tell you HOW MANY slots there are for each grade. This is done for you in the provided function, you just need to call it and get the results. Please pay attention to the n value for number.\n",
    "<li>Take the supplied raw percentage grades and fit them into those buckets. I.E. if there are 17 slots for an A grade, the 17 highest percentage marks should get an A; if there are then 52 for B, then the next 52 highest get a B, etc...\n",
    "<li><b>You are going to return a list of tuples - the original percentage grade, and the letter grade. E.g. [(72,B), (84,A), etc...]</b>\n",
    "</ul>\n",
    "\n",
    "<br><br>\n",
    "In this function you'll take in:\n",
    "<ul>\n",
    "<li>A list of raw percentage grades, from 0 to 100. E.g. [100,98,24,53,45, etc...]\n",
    "</ul>\n",
    "\n",
    "You'll produce:\n",
    "<ul>\n",
    "<li>A list of tuples. Each tuple is the original percentage grade, and the letter grade. .\n",
    "</ul>\n",
    "\n",
    "<br>\n",
    "Note: You'll have to run the function cell down at the bottom first. \n",
    "<br><br>\n",
    "<b>Bonus: The provided function for grade buckets probably isn't the best overall, if you can rewrite it to be better, up to 3 bonus marks. Think about the random factor...</b>"
   ]
  },
  {
   "cell_type": "code",
   "execution_count": 69,
   "metadata": {},
   "outputs": [],
   "source": [
    "def assignLetterGrades(rawPercentageGrades):\n",
    "    rawPercentageGrades = sorted(rawPercentageGrades, reverse=True)\n",
    "    n= len(rawPercentageGrades) \n",
    "    buckets = simpleGenerateLetterGradeBuckets(n)\n",
    "    abucket = buckets['A']\n",
    "    a = rawPercentageGrades[0:(abucket)]\n",
    "    bbucket = buckets['B']\n",
    "    add1 = abucket+bbucket\n",
    "    b = rawPercentageGrades[abucket:add1]\n",
    "    cbucket = buckets['C']\n",
    "    add2 = abucket+bbucket+cbucket\n",
    "    c = rawPercentageGrades[add1:add2]\n",
    "    dbucket = buckets['D']\n",
    "    add3 = abucket+bbucket+cbucket+dbucket\n",
    "    d = rawPercentageGrades[add2:add3]\n",
    "    fbucket = buckets['F']\n",
    "    add4 = abucket+bbucket+cbucket+dbucket+fbucket\n",
    "    f = rawPercentageGrades[add3:add4]\n",
    "    listOfTumples = {'A': a, 'B': b, 'C': c, 'D': d, 'F': f}\n",
    "    return listOfTumples"
   ]
  },
  {
   "cell_type": "code",
   "execution_count": 70,
   "metadata": {},
   "outputs": [
    {
     "data": {
      "text/plain": [
       "{'A': [100, 98], 'B': [90, 67, 65, 34, 30, 24], 'C': [22], 'D': [4], 'F': []}"
      ]
     },
     "execution_count": 70,
     "metadata": {},
     "output_type": "execute_result"
    }
   ],
   "source": [
    "assignLetterGrades([100,98,24,4,67,22,90,30,34,65])"
   ]
  },
  {
   "cell_type": "code",
   "execution_count": 68,
   "metadata": {},
   "outputs": [
    {
     "data": {
      "text/plain": [
       "{'A': 3, 'B': 2, 'C': 5, 'D': 0, 'F': 0}"
      ]
     },
     "execution_count": 68,
     "metadata": {},
     "output_type": "execute_result"
    }
   ],
   "source": [
    "#Example for 423 students\n",
    "simpleGenerateLetterGradeBuckets(10)"
   ]
  },
  {
   "cell_type": "code",
   "execution_count": 2,
   "metadata": {},
   "outputs": [],
   "source": [
    "def simpleGenerateLetterGradeBuckets(n=100):\n",
    "    #Define distribution params\n",
    "    c = 1.5\n",
    "    loc = 3\n",
    "    scale = 1.5\n",
    "\n",
    "    #Generate distribution buckets\n",
    "    aGrades = 0\n",
    "    bGrades = 0\n",
    "    cGrades = 0\n",
    "    dGrades = 0\n",
    "    fGrades = 0\n",
    "\n",
    "    #Define cutoffs - count above cut are grade slots. E.g. the number of random results over 3.8 are\n",
    "    #the number of slots for A. The number remaining over 3 are the slots for B, etc...\n",
    "    cuts = [3.7, 2.9, 1.9, .9]\n",
    "    data = 7.2-ss.weibull_min.rvs(c, loc, scale, n)\n",
    "    \n",
    "    #Count the number of slots for each letter grade\n",
    "    for i in range(len(data)):\n",
    "        tmp = data[i]\n",
    "        if tmp > cuts[0]:\n",
    "            aGrades += 1\n",
    "        elif tmp > cuts[1]:\n",
    "            bGrades += 1\n",
    "        elif tmp > cuts[2]:\n",
    "            cGrades += 1\n",
    "        elif tmp > cuts[3]:\n",
    "            dGrades += 1\n",
    "        else:\n",
    "            fGrades += 1\n",
    "    funcbuckets = {\"A\":aGrades, \"B\":bGrades, \"C\":cGrades, \"D\":dGrades, \"F\":fGrades}\n",
    "    return funcbuckets"
   ]
  },
  {
   "cell_type": "code",
   "execution_count": 3,
   "metadata": {},
   "outputs": [
    {
     "name": "stdout",
     "output_type": "stream",
     "text": [
      "[100, 98, 90, 89, 88, 78, 67, 65, 55, 34, 32, 30, 30, 24, 22, 12, 11, 4, 2]\n",
      "19\n",
      "{'A': 3, 'B': 8, 'C': 6, 'D': 0, 'F': 2}\n",
      "3\n",
      "[100, 98, 90]\n",
      "8\n",
      "[89, 88, 78, 67, 65, 55, 34, 32]\n",
      "6\n",
      "[30, 30, 24, 22, 12, 11]\n",
      "0\n",
      "[]\n",
      "2\n",
      "[4, 2]\n"
     ]
    }
   ],
   "source": [
    "rawPercentageGrades=[100,98,24,4,67,22,90,30,34,65, 12, 30, 78,88,55, 89,32,11,2]\n",
    "rawPercentageGrades = sorted(rawPercentageGrades, reverse=True)\n",
    "print(rawPercentageGrades)\n",
    "n= len(rawPercentageGrades) \n",
    "print(n)\n",
    "buckets = simpleGenerateLetterGradeBuckets(n)\n",
    "print(buckets)\n",
    "abucket = buckets['A']\n",
    "print(abucket)\n",
    "a = rawPercentageGrades[0:(abucket)]\n",
    "print(a)\n",
    "bbucket = buckets['B']\n",
    "print(bbucket)\n",
    "add1 = abucket+bbucket\n",
    "b = rawPercentageGrades[abucket:add1]\n",
    "print(b)\n",
    "cbucket = buckets['C']\n",
    "print(cbucket)\n",
    "add2 = abucket+bbucket+cbucket\n",
    "c = rawPercentageGrades[add1:add2]\n",
    "print(c)\n",
    "dbucket = buckets['D']\n",
    "print(dbucket)\n",
    "add3 = abucket+bbucket+cbucket+dbucket\n",
    "d = rawPercentageGrades[add2:add3]\n",
    "print(d)\n",
    "fbucket = buckets['F']\n",
    "print(fbucket)\n",
    "add4 = abucket+bbucket+cbucket+dbucket+fbucket\n",
    "f = rawPercentageGrades[add3:add4]\n",
    "print(f)"
   ]
  }
 ],
 "metadata": {
  "interpreter": {
   "hash": "ea39297c2a3b8433e0e3c4b620aff79df88eb4bda961dfb2311fbafd7efdbd77"
  },
  "kernelspec": {
   "display_name": "Python 3.8.11 64-bit ('base': conda)",
   "name": "python3"
  },
  "language_info": {
   "codemirror_mode": {
    "name": "ipython",
    "version": 3
   },
   "file_extension": ".py",
   "mimetype": "text/x-python",
   "name": "python",
   "nbconvert_exporter": "python",
   "pygments_lexer": "ipython3",
   "version": "3.8.8"
  },
  "orig_nbformat": 4
 },
 "nbformat": 4,
 "nbformat_minor": 2
}
